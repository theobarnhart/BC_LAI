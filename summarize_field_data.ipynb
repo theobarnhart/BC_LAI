{
 "cells": [
  {
   "cell_type": "code",
   "execution_count": 1,
   "metadata": {
    "collapsed": true
   },
   "outputs": [],
   "source": [
    "locs = pd.read_excel('./data/gps_data.xlsx')"
   ]
  },
  {
   "cell_type": "code",
   "execution_count": 32,
   "metadata": {
    "collapsed": false
   },
   "outputs": [],
   "source": [
    "header = ['plot','northing','easting','section']\n",
    "locs.columns = header"
   ]
  },
  {
   "cell_type": "code",
   "execution_count": 3,
   "metadata": {
    "collapsed": false
   },
   "outputs": [],
   "source": [
    "locs['section'] = '13N'"
   ]
  },
  {
   "cell_type": "code",
   "execution_count": 4,
   "metadata": {
    "collapsed": true
   },
   "outputs": [],
   "source": [
    "dat = pd.read_csv('./data/lai_survey_2016.csv')"
   ]
  },
  {
   "cell_type": "code",
   "execution_count": 5,
   "metadata": {
    "collapsed": false
   },
   "outputs": [],
   "source": [
    "trees = pd.read_csv('./data/lai_survey_2016 - trees.csv')"
   ]
  },
  {
   "cell_type": "code",
   "execution_count": 6,
   "metadata": {
    "collapsed": false
   },
   "outputs": [],
   "source": [
    "lai_tmp = dat.loc[dat.measurement == 'lai'].copy()"
   ]
  },
  {
   "cell_type": "code",
   "execution_count": 7,
   "metadata": {
    "collapsed": false
   },
   "outputs": [],
   "source": [
    "lai_tmp['value'] = pd.to_numeric(lai_tmp.value)"
   ]
  },
  {
   "cell_type": "code",
   "execution_count": 8,
   "metadata": {
    "collapsed": false
   },
   "outputs": [],
   "source": [
    "data = pd.DataFrame({'lai':lai_tmp.groupby(by='plot')['value'].mean()})"
   ]
  },
  {
   "cell_type": "code",
   "execution_count": 9,
   "metadata": {
    "collapsed": true
   },
   "outputs": [],
   "source": [
    "gf_tmp = dat.loc[dat.measurement == 'gf'].copy()"
   ]
  },
  {
   "cell_type": "code",
   "execution_count": 10,
   "metadata": {
    "collapsed": true
   },
   "outputs": [],
   "source": [
    "gf_tmp['value'] = pd.to_numeric(gf_tmp.value)"
   ]
  },
  {
   "cell_type": "code",
   "execution_count": 11,
   "metadata": {
    "collapsed": true
   },
   "outputs": [],
   "source": [
    "data['gf'] = gf_tmp.groupby(by='plot')['value'].mean()/100."
   ]
  },
  {
   "cell_type": "code",
   "execution_count": 12,
   "metadata": {
    "collapsed": true
   },
   "outputs": [],
   "source": [
    "data['mean_dbh'] = trees.groupby(by='plot')['DBH'].mean()"
   ]
  },
  {
   "cell_type": "code",
   "execution_count": 13,
   "metadata": {
    "collapsed": false
   },
   "outputs": [],
   "source": [
    "trees['ave_height'] = pd.to_numeric(trees.ave_height)"
   ]
  },
  {
   "cell_type": "code",
   "execution_count": 14,
   "metadata": {
    "collapsed": false
   },
   "outputs": [],
   "source": [
    "data['mean_tree_height'] = trees.groupby(by='plot')['ave_height'].mean()"
   ]
  },
  {
   "cell_type": "code",
   "execution_count": 24,
   "metadata": {
    "collapsed": true
   },
   "outputs": [],
   "source": [
    "species = pd.DataFrame({'code':trees.species.unique()})\n",
    "species['species'] = ['Pinus ponderosa','Pinus engelmannii','Juniperus scopulorum','pseudotsuga menziesii',\n",
    "                      'unidentified bush','pinus contorta','pinus flexilis','populus tremuloides','grass','Salix amygdaloides',\n",
    "                     'abies lasiocarpa']"
   ]
  },
  {
   "cell_type": "code",
   "execution_count": 25,
   "metadata": {
    "collapsed": false
   },
   "outputs": [
    {
     "data": {
      "text/html": [
       "<div>\n",
       "<table border=\"1\" class=\"dataframe\">\n",
       "  <thead>\n",
       "    <tr style=\"text-align: right;\">\n",
       "      <th></th>\n",
       "      <th>code</th>\n",
       "      <th>species</th>\n",
       "    </tr>\n",
       "  </thead>\n",
       "  <tbody>\n",
       "    <tr>\n",
       "      <th>0</th>\n",
       "      <td>pipo</td>\n",
       "      <td>Pinus ponderosa</td>\n",
       "    </tr>\n",
       "    <tr>\n",
       "      <th>1</th>\n",
       "      <td>pien</td>\n",
       "      <td>Pinus engelmannii</td>\n",
       "    </tr>\n",
       "    <tr>\n",
       "      <th>2</th>\n",
       "      <td>jusc</td>\n",
       "      <td>Juniperus scopulorum</td>\n",
       "    </tr>\n",
       "    <tr>\n",
       "      <th>3</th>\n",
       "      <td>psme</td>\n",
       "      <td>pseudotsuga menziesii</td>\n",
       "    </tr>\n",
       "    <tr>\n",
       "      <th>4</th>\n",
       "      <td>bush</td>\n",
       "      <td>unidentified bush</td>\n",
       "    </tr>\n",
       "    <tr>\n",
       "      <th>5</th>\n",
       "      <td>pico</td>\n",
       "      <td>pinus contorta</td>\n",
       "    </tr>\n",
       "    <tr>\n",
       "      <th>6</th>\n",
       "      <td>pifl</td>\n",
       "      <td>pinus flexilis</td>\n",
       "    </tr>\n",
       "    <tr>\n",
       "      <th>7</th>\n",
       "      <td>potr</td>\n",
       "      <td>populus tremuloides</td>\n",
       "    </tr>\n",
       "    <tr>\n",
       "      <th>8</th>\n",
       "      <td>NaN</td>\n",
       "      <td>grass</td>\n",
       "    </tr>\n",
       "    <tr>\n",
       "      <th>9</th>\n",
       "      <td>saam</td>\n",
       "      <td>Salix amygdaloides</td>\n",
       "    </tr>\n",
       "    <tr>\n",
       "      <th>10</th>\n",
       "      <td>abla</td>\n",
       "      <td>abies lasiocarpa</td>\n",
       "    </tr>\n",
       "  </tbody>\n",
       "</table>\n",
       "</div>"
      ],
      "text/plain": [
       "    code                species\n",
       "0   pipo        Pinus ponderosa\n",
       "1   pien      Pinus engelmannii\n",
       "2   jusc   Juniperus scopulorum\n",
       "3   psme  pseudotsuga menziesii\n",
       "4   bush      unidentified bush\n",
       "5   pico         pinus contorta\n",
       "6   pifl         pinus flexilis\n",
       "7   potr    populus tremuloides\n",
       "8    NaN                  grass\n",
       "9   saam     Salix amygdaloides\n",
       "10  abla       abies lasiocarpa"
      ]
     },
     "execution_count": 25,
     "metadata": {},
     "output_type": "execute_result"
    }
   ],
   "source": [
    "species"
   ]
  },
  {
   "cell_type": "code",
   "execution_count": 28,
   "metadata": {
    "collapsed": false
   },
   "outputs": [
    {
     "data": {
      "text/plain": [
       "0"
      ]
     },
     "execution_count": 28,
     "metadata": {},
     "output_type": "execute_result"
    }
   ],
   "source": []
  },
  {
   "cell_type": "code",
   "execution_count": 31,
   "metadata": {
    "collapsed": false
   },
   "outputs": [],
   "source": [
    "data['plot'] = data.index"
   ]
  },
  {
   "cell_type": "code",
   "execution_count": 30,
   "metadata": {
    "collapsed": false
   },
   "outputs": [
    {
     "data": {
      "text/html": [
       "<div>\n",
       "<table border=\"1\" class=\"dataframe\">\n",
       "  <thead>\n",
       "    <tr style=\"text-align: right;\">\n",
       "      <th></th>\n",
       "      <th>site</th>\n",
       "      <th>northing</th>\n",
       "      <th>easting</th>\n",
       "      <th>section</th>\n",
       "    </tr>\n",
       "  </thead>\n",
       "  <tbody>\n",
       "    <tr>\n",
       "      <th>0</th>\n",
       "      <td>4</td>\n",
       "      <td>4429121.421</td>\n",
       "      <td>470785.219</td>\n",
       "      <td>13N</td>\n",
       "    </tr>\n",
       "    <tr>\n",
       "      <th>1</th>\n",
       "      <td>5</td>\n",
       "      <td>4429195.065</td>\n",
       "      <td>470938.559</td>\n",
       "      <td>13N</td>\n",
       "    </tr>\n",
       "    <tr>\n",
       "      <th>2</th>\n",
       "      <td>6</td>\n",
       "      <td>4428849.917</td>\n",
       "      <td>471100.325</td>\n",
       "      <td>13N</td>\n",
       "    </tr>\n",
       "    <tr>\n",
       "      <th>3</th>\n",
       "      <td>7</td>\n",
       "      <td>4431516.654</td>\n",
       "      <td>469680.617</td>\n",
       "      <td>13N</td>\n",
       "    </tr>\n",
       "    <tr>\n",
       "      <th>4</th>\n",
       "      <td>8</td>\n",
       "      <td>4431748.445</td>\n",
       "      <td>469390.047</td>\n",
       "      <td>13N</td>\n",
       "    </tr>\n",
       "    <tr>\n",
       "      <th>5</th>\n",
       "      <td>13</td>\n",
       "      <td>4430455.441</td>\n",
       "      <td>461402.500</td>\n",
       "      <td>13N</td>\n",
       "    </tr>\n",
       "    <tr>\n",
       "      <th>6</th>\n",
       "      <td>14</td>\n",
       "      <td>4428003.036</td>\n",
       "      <td>462539.149</td>\n",
       "      <td>13N</td>\n",
       "    </tr>\n",
       "    <tr>\n",
       "      <th>7</th>\n",
       "      <td>15</td>\n",
       "      <td>4422725.119</td>\n",
       "      <td>458503.619</td>\n",
       "      <td>13N</td>\n",
       "    </tr>\n",
       "    <tr>\n",
       "      <th>8</th>\n",
       "      <td>16</td>\n",
       "      <td>4422784.080</td>\n",
       "      <td>459068.915</td>\n",
       "      <td>13N</td>\n",
       "    </tr>\n",
       "    <tr>\n",
       "      <th>9</th>\n",
       "      <td>17</td>\n",
       "      <td>4420738.491</td>\n",
       "      <td>457974.978</td>\n",
       "      <td>13N</td>\n",
       "    </tr>\n",
       "    <tr>\n",
       "      <th>10</th>\n",
       "      <td>18</td>\n",
       "      <td>4420420.337</td>\n",
       "      <td>457317.945</td>\n",
       "      <td>13N</td>\n",
       "    </tr>\n",
       "    <tr>\n",
       "      <th>11</th>\n",
       "      <td>20</td>\n",
       "      <td>4422585.358</td>\n",
       "      <td>449379.415</td>\n",
       "      <td>13N</td>\n",
       "    </tr>\n",
       "    <tr>\n",
       "      <th>12</th>\n",
       "      <td>21</td>\n",
       "      <td>4420345.413</td>\n",
       "      <td>450338.635</td>\n",
       "      <td>13N</td>\n",
       "    </tr>\n",
       "    <tr>\n",
       "      <th>13</th>\n",
       "      <td>22</td>\n",
       "      <td>4420236.155</td>\n",
       "      <td>450139.938</td>\n",
       "      <td>13N</td>\n",
       "    </tr>\n",
       "    <tr>\n",
       "      <th>14</th>\n",
       "      <td>23</td>\n",
       "      <td>4419902.415</td>\n",
       "      <td>449637.990</td>\n",
       "      <td>13N</td>\n",
       "    </tr>\n",
       "    <tr>\n",
       "      <th>15</th>\n",
       "      <td>24</td>\n",
       "      <td>4431786.020</td>\n",
       "      <td>454697.112</td>\n",
       "      <td>13N</td>\n",
       "    </tr>\n",
       "    <tr>\n",
       "      <th>16</th>\n",
       "      <td>25</td>\n",
       "      <td>4432060.032</td>\n",
       "      <td>453472.267</td>\n",
       "      <td>13N</td>\n",
       "    </tr>\n",
       "    <tr>\n",
       "      <th>17</th>\n",
       "      <td>26</td>\n",
       "      <td>4432226.607</td>\n",
       "      <td>452035.599</td>\n",
       "      <td>13N</td>\n",
       "    </tr>\n",
       "    <tr>\n",
       "      <th>18</th>\n",
       "      <td>27</td>\n",
       "      <td>4432576.674</td>\n",
       "      <td>451511.530</td>\n",
       "      <td>13N</td>\n",
       "    </tr>\n",
       "    <tr>\n",
       "      <th>19</th>\n",
       "      <td>28</td>\n",
       "      <td>4433067.532</td>\n",
       "      <td>451168.752</td>\n",
       "      <td>13N</td>\n",
       "    </tr>\n",
       "    <tr>\n",
       "      <th>20</th>\n",
       "      <td>29</td>\n",
       "      <td>4432653.264</td>\n",
       "      <td>450778.862</td>\n",
       "      <td>13N</td>\n",
       "    </tr>\n",
       "    <tr>\n",
       "      <th>21</th>\n",
       "      <td>30</td>\n",
       "      <td>4433194.225</td>\n",
       "      <td>450303.132</td>\n",
       "      <td>13N</td>\n",
       "    </tr>\n",
       "    <tr>\n",
       "      <th>22</th>\n",
       "      <td>31</td>\n",
       "      <td>4433568.596</td>\n",
       "      <td>450521.209</td>\n",
       "      <td>13N</td>\n",
       "    </tr>\n",
       "    <tr>\n",
       "      <th>23</th>\n",
       "      <td>32</td>\n",
       "      <td>4433431.272</td>\n",
       "      <td>451724.596</td>\n",
       "      <td>13N</td>\n",
       "    </tr>\n",
       "    <tr>\n",
       "      <th>24</th>\n",
       "      <td>33</td>\n",
       "      <td>4433108.947</td>\n",
       "      <td>452065.863</td>\n",
       "      <td>13N</td>\n",
       "    </tr>\n",
       "    <tr>\n",
       "      <th>25</th>\n",
       "      <td>34</td>\n",
       "      <td>4434003.360</td>\n",
       "      <td>450024.763</td>\n",
       "      <td>13N</td>\n",
       "    </tr>\n",
       "    <tr>\n",
       "      <th>26</th>\n",
       "      <td>35</td>\n",
       "      <td>4434140.531</td>\n",
       "      <td>449864.879</td>\n",
       "      <td>13N</td>\n",
       "    </tr>\n",
       "    <tr>\n",
       "      <th>27</th>\n",
       "      <td>39</td>\n",
       "      <td>4434293.862</td>\n",
       "      <td>459998.297</td>\n",
       "      <td>13N</td>\n",
       "    </tr>\n",
       "    <tr>\n",
       "      <th>28</th>\n",
       "      <td>40</td>\n",
       "      <td>4433099.200</td>\n",
       "      <td>459321.819</td>\n",
       "      <td>13N</td>\n",
       "    </tr>\n",
       "    <tr>\n",
       "      <th>29</th>\n",
       "      <td>41</td>\n",
       "      <td>4432272.710</td>\n",
       "      <td>459425.708</td>\n",
       "      <td>13N</td>\n",
       "    </tr>\n",
       "    <tr>\n",
       "      <th>30</th>\n",
       "      <td>42</td>\n",
       "      <td>4430321.082</td>\n",
       "      <td>458965.382</td>\n",
       "      <td>13N</td>\n",
       "    </tr>\n",
       "    <tr>\n",
       "      <th>31</th>\n",
       "      <td>43</td>\n",
       "      <td>4430116.952</td>\n",
       "      <td>458796.875</td>\n",
       "      <td>13N</td>\n",
       "    </tr>\n",
       "    <tr>\n",
       "      <th>32</th>\n",
       "      <td>44</td>\n",
       "      <td>4429644.444</td>\n",
       "      <td>459525.532</td>\n",
       "      <td>13N</td>\n",
       "    </tr>\n",
       "    <tr>\n",
       "      <th>33</th>\n",
       "      <td>45</td>\n",
       "      <td>4429466.809</td>\n",
       "      <td>460024.731</td>\n",
       "      <td>13N</td>\n",
       "    </tr>\n",
       "    <tr>\n",
       "      <th>34</th>\n",
       "      <td>46</td>\n",
       "      <td>4429214.325</td>\n",
       "      <td>459923.873</td>\n",
       "      <td>13N</td>\n",
       "    </tr>\n",
       "    <tr>\n",
       "      <th>35</th>\n",
       "      <td>47</td>\n",
       "      <td>4429112.401</td>\n",
       "      <td>459744.881</td>\n",
       "      <td>13N</td>\n",
       "    </tr>\n",
       "    <tr>\n",
       "      <th>36</th>\n",
       "      <td>48</td>\n",
       "      <td>4429263.547</td>\n",
       "      <td>460603.102</td>\n",
       "      <td>13N</td>\n",
       "    </tr>\n",
       "    <tr>\n",
       "      <th>37</th>\n",
       "      <td>50</td>\n",
       "      <td>4433308.013</td>\n",
       "      <td>450580.902</td>\n",
       "      <td>13N</td>\n",
       "    </tr>\n",
       "    <tr>\n",
       "      <th>38</th>\n",
       "      <td>56</td>\n",
       "      <td>4428591.442</td>\n",
       "      <td>457577.326</td>\n",
       "      <td>13N</td>\n",
       "    </tr>\n",
       "    <tr>\n",
       "      <th>39</th>\n",
       "      <td>57</td>\n",
       "      <td>4427623.304</td>\n",
       "      <td>458083.712</td>\n",
       "      <td>13N</td>\n",
       "    </tr>\n",
       "  </tbody>\n",
       "</table>\n",
       "</div>"
      ],
      "text/plain": [
       "    site     northing     easting section\n",
       "0      4  4429121.421  470785.219     13N\n",
       "1      5  4429195.065  470938.559     13N\n",
       "2      6  4428849.917  471100.325     13N\n",
       "3      7  4431516.654  469680.617     13N\n",
       "4      8  4431748.445  469390.047     13N\n",
       "5     13  4430455.441  461402.500     13N\n",
       "6     14  4428003.036  462539.149     13N\n",
       "7     15  4422725.119  458503.619     13N\n",
       "8     16  4422784.080  459068.915     13N\n",
       "9     17  4420738.491  457974.978     13N\n",
       "10    18  4420420.337  457317.945     13N\n",
       "11    20  4422585.358  449379.415     13N\n",
       "12    21  4420345.413  450338.635     13N\n",
       "13    22  4420236.155  450139.938     13N\n",
       "14    23  4419902.415  449637.990     13N\n",
       "15    24  4431786.020  454697.112     13N\n",
       "16    25  4432060.032  453472.267     13N\n",
       "17    26  4432226.607  452035.599     13N\n",
       "18    27  4432576.674  451511.530     13N\n",
       "19    28  4433067.532  451168.752     13N\n",
       "20    29  4432653.264  450778.862     13N\n",
       "21    30  4433194.225  450303.132     13N\n",
       "22    31  4433568.596  450521.209     13N\n",
       "23    32  4433431.272  451724.596     13N\n",
       "24    33  4433108.947  452065.863     13N\n",
       "25    34  4434003.360  450024.763     13N\n",
       "26    35  4434140.531  449864.879     13N\n",
       "27    39  4434293.862  459998.297     13N\n",
       "28    40  4433099.200  459321.819     13N\n",
       "29    41  4432272.710  459425.708     13N\n",
       "30    42  4430321.082  458965.382     13N\n",
       "31    43  4430116.952  458796.875     13N\n",
       "32    44  4429644.444  459525.532     13N\n",
       "33    45  4429466.809  460024.731     13N\n",
       "34    46  4429214.325  459923.873     13N\n",
       "35    47  4429112.401  459744.881     13N\n",
       "36    48  4429263.547  460603.102     13N\n",
       "37    50  4433308.013  450580.902     13N\n",
       "38    56  4428591.442  457577.326     13N\n",
       "39    57  4427623.304  458083.712     13N"
      ]
     },
     "execution_count": 30,
     "metadata": {},
     "output_type": "execute_result"
    }
   ],
   "source": []
  },
  {
   "cell_type": "code",
   "execution_count": 33,
   "metadata": {
    "collapsed": true
   },
   "outputs": [],
   "source": [
    "data = pd.merge(left=data,right=locs,on='plot')"
   ]
  },
  {
   "cell_type": "code",
   "execution_count": 36,
   "metadata": {
    "collapsed": false
   },
   "outputs": [],
   "source": [
    "data.to_csv('./output/lai_gf_summary.csv',index=False)"
   ]
  },
  {
   "cell_type": "code",
   "execution_count": 38,
   "metadata": {
    "collapsed": false
   },
   "outputs": [],
   "source": [
    "species.to_csv('./output/species_codes.csv',index=False)"
   ]
  },
  {
   "cell_type": "code",
   "execution_count": 40,
   "metadata": {
    "collapsed": true
   },
   "outputs": [],
   "source": [
    "del trees['height_average']"
   ]
  },
  {
   "cell_type": "code",
   "execution_count": 41,
   "metadata": {
    "collapsed": true
   },
   "outputs": [],
   "source": [
    "trees.to_csv('./output/tree_data.csv',index=False)"
   ]
  },
  {
   "cell_type": "code",
   "execution_count": null,
   "metadata": {
    "collapsed": true
   },
   "outputs": [],
   "source": []
  }
 ],
 "metadata": {
  "kernelspec": {
   "display_name": "Python 2",
   "language": "python",
   "name": "python2"
  },
  "language_info": {
   "codemirror_mode": {
    "name": "ipython",
    "version": 2
   },
   "file_extension": ".py",
   "mimetype": "text/x-python",
   "name": "python",
   "nbconvert_exporter": "python",
   "pygments_lexer": "ipython2",
   "version": "2.7.11"
  }
 },
 "nbformat": 4,
 "nbformat_minor": 0
}
